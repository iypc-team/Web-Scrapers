{
 "cells": [
  {
   "cell_type": "code",
   "execution_count": null,
   "id": "6f6065c7",
   "metadata": {},
   "outputs": [],
   "source": [
    "from __future__ import absolute_import, division\n",
    "from BashColors import C\n",
    "from CV2_Utils_2 import *\n",
    "from TarfileFunctions import *\n",
    "\n",
    "import numpy as np\n",
    "import cv2, glob, hashlib, os, shutil\n",
    "from os.path import *\n",
    "from time import sleep\n",
    "\n",
    "contentPath=os.getcwd()\n",
    "datagenPath=join(contentPath, 'DataGenerator')\n",
    "downloadPath=join(contentPath, 'Downloads')\n",
    "planetSavePath=join(contentPath, 'DataGenerator/Planets')\n",
    "planetSavePath"
   ]
  },
  {
   "cell_type": "code",
   "execution_count": null,
   "id": "e203b557",
   "metadata": {},
   "outputs": [],
   "source": [
    "def getHexValueFromImage(thisImage, digits=10):\n",
    "    ''' '''\n",
    "    return hashlib.sha1(thisImage).hexdigest()[:digits]\n",
    "\n",
    "def createTarfileFromDirectory(inspect=False):\n",
    "    tff.tarfileFromDirectory(\n",
    "        output_filename='DataGenerator3.tar.gz',\n",
    "        source_dir=datagenPath)\n",
    "    if inspect:\n",
    "        tff.inspectTarfile('DataGenerator3.tar.gz')"
   ]
  },
  {
   "cell_type": "code",
   "execution_count": null,
   "id": "e767361d",
   "metadata": {},
   "outputs": [],
   "source": [
    "pathList=[]\n",
    "for item in range(1, len(pathList)):\n",
    "    im=cv2.imread(pathList[item])\n",
    "    # im = np.multiply(im, item * item)\n",
    "    hexComponent = getHexValueFromImage(im)\n",
    "    print(item, hexComponent)"
   ]
  },
  {
   "cell_type": "code",
   "execution_count": null,
   "id": "7c1e21a9",
   "metadata": {},
   "outputs": [],
   "source": [
    "# bs='''\n",
    "os.chdir(planetSavePath)\n",
    "globList=[]\n",
    "pathList=[]\n",
    "globList = glob.glob('**')\n",
    "for pth in sorted(globList):\n",
    "    fullPath= abspath(pth)\n",
    "    pathList.append(fullPath)\n",
    "    # print(fullPath)\n",
    "\n",
    "for pth in pathList:\n",
    "    # print(pth)\n",
    "    img = cv2.imread(pth, cv2.IMREAD_COLOR)\n",
    "    resizedImg = np.copy(img)\n",
    "    print(img.shape)\n",
    "    \n",
    "    sleep(0.1)\n",
    "    if img.shape != (224, 224, 3):\n",
    "        print(f'{C.BIRed}RESIZING IMAGE SHAPE{C.ColorOff}')\n",
    "        resizedImg=cv2.resize(resizedImg,(224,224),cv2.INTER_LINEAR)\n",
    "        sleep(0.1)\n",
    "    else: print(f'{C.BIGreen}IMAGE SHAPE OK{C.ColorOff}')\n",
    "    \n",
    "    splt=splitext(basename(pth))\n",
    "    print()\n",
    "    print(f'splt: {C.BIBlue}{splt}{C.ColorOff}')\n",
    "    fileName = splt[0] + '.png'\n",
    "    savePath=join(planetSavePath, fileName)\n",
    "    print(f'savePath: {C.BIBlue}{savePath}{C.ColorOff}')\n",
    "    \n",
    "    if not exists(savePath):\n",
    "        _ = cv2.imwrite(savePath, resizedImg)\n",
    "        print(f'savePath: {C.BIGreen}{savePath}{C.ColorOff}')\n",
    "        sleep(0.1)\n",
    "\n",
    "    cvu.plotShowTwoImages(img, resizedImg, title2='resizedImg')\n",
    "    img=None\n",
    "    resizedImg=None\n",
    "os.chdir(contentPath)"
   ]
  },
  {
   "cell_type": "code",
   "execution_count": null,
   "id": "6312b9d7",
   "metadata": {},
   "outputs": [],
   "source": [
    "createTarfileFromDirectory"
   ]
  },
  {
   "cell_type": "code",
   "execution_count": null,
   "id": "e651f591",
   "metadata": {},
   "outputs": [],
   "source": [
    "os.chdir(planetSavePath)\n",
    "globList =[]\n",
    "planetList =[]\n",
    "globList  = glob.glob('**')\n",
    "for pth in globList :\n",
    "    fullPath= abspath(pth)\n",
    "    planetList .append(fullPath)\n",
    "    # print(fullPath)"
   ]
  },
  {
   "cell_type": "code",
   "execution_count": null,
   "id": "be05a9cf",
   "metadata": {},
   "outputs": [],
   "source": [
    "xScale = yScale = 0.5\n",
    "scaleList=[0.1, 0.2, 0.3, 0.4, 0.5, 0.6, 0.7, 0.8, 0.9]\n",
    "for pth in planetList :\n",
    "    for thisScale in scaleList:\n",
    "        xScale = yScale =thisScale\n",
    "        fileName=basename(pth)\n",
    "        # print(pth)\n",
    "        img = cv2.imread(pth, cv2.IMREAD_COLOR)\n",
    "        scaleImg = np.copy(img)\n",
    "        sleep(0.1)\n",
    "        scaleImg=cvu.zoomImage(scaleImg, scale=xScale, silent=False)\n",
    "        sleep(0.1)\n",
    "         # imageName=basename(pth) + 's' + str(xScale)\n",
    "        # imageName = splt[0] + 's' + str(xScale) + split[1]\n",
    "        basePath, extension = splitext(pth)\n",
    "        basePath = basePath + '_' + 'S' + str(xScale)\n",
    "        savePath = basePath + extension\n",
    "        print(f'savePath: {C.BIPurple}{savePath}{C.ColorOff}')\n",
    "        if not exists(savePath):\n",
    "            _ = cv2.imwrite(savePath, scaleImg)\n",
    "            sleep(0.1)\n",
    "            print(f'saved: {C.BIGreen}{savePath}{C.ColorOff}')\n",
    "        else: print(f'already exists: {C.BIRed}{savePath}{C.ColorOff}')\n",
    "\n",
    "        cvu.plotShowTwoImages(\n",
    "            img, scaleImg,\n",
    "            title1=basename(pth), title2=basename(savePath)\n",
    "        )\n",
    "        # cvu.plotShowSingleImage(scaleImg, title1=scaleImg.shape)\n",
    "        sleep(0.1)\n",
    "        img=None\n",
    "        scaleImg=None\n",
    "    os.chdir(contentPath)"
   ]
  },
  {
   "cell_type": "code",
   "execution_count": null,
   "id": "2f65d758",
   "metadata": {},
   "outputs": [],
   "source": [
    "createTarfileFromDirectory(inspect=True)"
   ]
  },
  {
   "cell_type": "code",
   "execution_count": null,
   "id": "8b2c3680",
   "metadata": {},
   "outputs": [],
   "source": [
    "def scaleImages(file_list:list, silent=True, save=False):\n",
    "    '''file_list: A list of fully qualified paths'''\n",
    "    for fullPath in file_list:\n",
    "        img=cv2.imread(fullPath, cv2.IMREAD_COLOR)\n",
    "        img=cvu.fillImage(img, silent=silent)\n",
    "        zoomImg=cvu.rotateImage(img, scale=0.1, silent=silent)\n",
    "\n",
    "        zoomImg=cvu.fillImage(zoomImg, silent=silent)\n",
    "\n",
    "        splt=splitext(basename(fullPath))\n",
    "        print(f'splt: {C.BIBlue}{splt}{C.ColorOff}')\n",
    "        fileName = splt[0] + '.png'\n",
    "        savePath=join(planetSavePath, fileName)\n",
    "        print(f'savePath: {C.BIPurple}{savePath}{C.ColorOff}')\n",
    "        if not exists(savePath):\n",
    "            # _ = cv2.imwrite(savePath, resizedImg)\n",
    "            sleep(0.1)\n",
    "        edgeImg=cvu.edgeDetection(zoomImg, silent=silent)"
   ]
  },
  {
   "cell_type": "code",
   "execution_count": null,
   "id": "2cd2f9f1",
   "metadata": {},
   "outputs": [],
   "source": [
    "scaleList = ['/home/jovyan/DataGenerator/Planets/planet2.png',\n",
    "             '/home/jovyan/DataGenerator/Planets/planet1.png',\n",
    "             '/home/jovyan/DataGenerator/Planets/planet8.png']\n",
    "scaleImages(file_list=scaleList, silent=False)"
   ]
  },
  {
   "cell_type": "code",
   "execution_count": null,
   "id": "f091ed0e",
   "metadata": {},
   "outputs": [],
   "source": [
    "help(scaleImages)"
   ]
  },
  {
   "cell_type": "code",
   "execution_count": null,
   "id": "b54be86c",
   "metadata": {},
   "outputs": [],
   "source": [
    "def alternateColors():\n",
    "    print(f'{C.BIPurple}')"
   ]
  },
  {
   "cell_type": "code",
   "execution_count": null,
   "id": "6a78718b",
   "metadata": {},
   "outputs": [],
   "source": [
    "methods = [\n",
    "\t(\"cv2.INTER_NEAREST\", cv2.INTER_NEAREST),\n",
    "\t(\"cv2.INTER_LINEAR\", cv2.INTER_LINEAR),\n",
    "\t(\"cv2.INTER_AREA\", cv2.INTER_AREA),\n",
    "\t(\"cv2.INTER_CUBIC\", cv2.INTER_CUBIC),\n",
    "\t(\"cv2.INTER_LANCZOS4\", cv2.INTER_LANCZOS4)]\n",
    "\n",
    "# loop over the interpolation methods\n",
    "for (name, method) in methods:\n",
    "\t# increase the size of the image by 3x using the current\n",
    "\t# interpolation method\n",
    "\t# print(\"[name] {}\".format(name))\n",
    "    print(f\"[INFO] {help(name)}\")\n",
    "    alternateColors()\n",
    "    print(\"[method] {}\".format(method))\n",
    "\t# resized = imutils.resize(image, width=image.shape[1] * 3,inter=method)\n",
    "\t# cv2.imshow(\"Method: {}\".format(name), resized)\n",
    "\t# cv2.waitKey(0)"
   ]
  }
 ],
 "metadata": {
  "kernelspec": {
   "display_name": "Python 3 (ipykernel)",
   "language": "python",
   "name": "python3"
  },
  "language_info": {
   "codemirror_mode": {
    "name": "ipython",
    "version": 3
   },
   "file_extension": ".py",
   "mimetype": "text/x-python",
   "name": "python",
   "nbconvert_exporter": "python",
   "pygments_lexer": "ipython3",
   "version": "3.7.12"
  }
 },
 "nbformat": 4,
 "nbformat_minor": 5
}
