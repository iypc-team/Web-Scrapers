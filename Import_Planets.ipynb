{
 "cells": [
  {
   "cell_type": "code",
   "execution_count": null,
   "id": "411f7742",
   "metadata": {},
   "outputs": [],
   "source": [
    "from IPython.display import clear_output\n",
    "from TarfileFunctions import *\n",
    "import glob, os, shutil\n",
    "from time import sleep\n",
    "from os.path import *\n",
    "\n",
    "\n",
    "contentPath = os.getcwd()\n",
    "genPath = join(contentPath, 'DataGenerator')\n",
    "copyPath = join(genPath, 'Planets')\n",
    "print(genPath)\n",
    "print(copyPath)\n",
    "if not exists(copyPath):\n",
    "    os.makedirs(copyPath)"
   ]
  },
  {
   "cell_type": "code",
   "execution_count": null,
   "id": "b5dc323c",
   "metadata": {},
   "outputs": [],
   "source": [
    "planetList=[]\n",
    "planetList = glob.glob('**')\n",
    "\n",
    "planetCount=0\n",
    "for pth in planetList:\n",
    "    fullPath = join(contentPath, pth)\n",
    "    # print(fullPath)\n",
    "    if fullPath.endswith('.jpeg') or fullPath.endswith('.png'):\n",
    "        planetCount+=1\n",
    "        print(fullPath)\n",
    "        splt = splitext(pth)\n",
    "        print(splt)\n",
    "        newFileName = f'planet{planetCount}{splt[1]}'\n",
    "        print(newFileName)\n",
    "        destination = join(contentPath, newFileName)\n",
    "        # os.rename(fullPath)\n",
    "        print(destination)\n",
    "        if not exists(destination):\n",
    "            pass\n",
    "            os.rename(fullPath, destination)\n",
    "        print()"
   ]
  },
  {
   "cell_type": "code",
   "execution_count": null,
   "id": "2d6b1766",
   "metadata": {},
   "outputs": [],
   "source": [
    "planetList=[]\n",
    "planetList = glob.glob('**')\n",
    "\n",
    "for pth in sorted(planetList):\n",
    "    fullPath = join(contentPath, pth)\n",
    "    # print(fullPath)\n",
    "    if fullPath.endswith('.jpeg') or fullPath.endswith('.png'):\n",
    "        print(fullPath)\n",
    "        splt = split(fullPath)\n",
    "        print(splt[1])\n",
    "        print(copyPath)\n",
    "        copyToPath = join(copyPath, splt[1])\n",
    "        print(copyToPath)\n",
    "        print()\n",
    "        if not exists(copyToPath):\n",
    "            shutil.copyfile(fullPath, copyToPath)\n",
    "            sleep(0.5)"
   ]
  },
  {
   "cell_type": "code",
   "execution_count": null,
   "id": "1965d5cd",
   "metadata": {},
   "outputs": [],
   "source": [
    "print(genPath)\n",
    "tff.tarfileFromDirectory(\n",
    "    output_filename='DataGenerator2.tar.gz',\n",
    "    source_dir=genPath\n",
    ")\n",
    "tff.inspectTarfile('DataGenerator2.tar.gz')"
   ]
  }
 ],
 "metadata": {
  "kernelspec": {
   "display_name": "Python 3 (ipykernel)",
   "language": "python",
   "name": "python3"
  },
  "language_info": {
   "codemirror_mode": {
    "name": "ipython",
    "version": 3
   },
   "file_extension": ".py",
   "mimetype": "text/x-python",
   "name": "python",
   "nbconvert_exporter": "python",
   "pygments_lexer": "ipython3",
   "version": "3.7.12"
  }
 },
 "nbformat": 4,
 "nbformat_minor": 5
}
