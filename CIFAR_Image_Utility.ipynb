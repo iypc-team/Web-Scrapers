{
 "cells": [
  {
   "cell_type": "code",
   "execution_count": null,
   "id": "760ab7f1",
   "metadata": {},
   "outputs": [],
   "source": [
    "%%writefile CIFAR_Image.py\n",
    "# 02/07/2022\n",
    "class CIFAR_Image:\n",
    "    \"\"\" \"\"\"\n",
    "    import numpy as np\n",
    "    # def __init__(self, image=None, label=None):\n",
    "    def __init__(self):\n",
    "        \"\"\"init\"\"\"\n",
    "        # Dimensions of image for reconstruction - not necessary \n",
    "        # for this dataset, but some datasets may include images of \n",
    "        # varying sizes\n",
    "        self.cfi = CIFAR_Image\n",
    "        self.image = None\n",
    "        try: self.channels = image.shape[2]\n",
    "        except: pass\n",
    "        try: self.size = image.shape[:2]\n",
    "        except: pass\n",
    "        try: self.image = image.tobytes()\n",
    "        except: pass\n",
    "        try: self.label = None\n",
    "        except: pass\n",
    "        \n",
    "    def __iter__(self):\n",
    "         \"\"\"iter\"\"\"\n",
    "         for key in self.some_sequence:\n",
    "            yield (key, 'Value for {}'.format(key))\n",
    "\n",
    "    def getImage(self, image):\n",
    "        \"\"\"Returns the image as a numpy array. \"\"\"\n",
    "        \n",
    "        self.image = image\n",
    "        image = np.frombuffer(self.image, dtype=np.uint8)\n",
    "        return image.reshape(*self.size, self.channels)\n",
    "    \n",
    "    def persistImage(self, folder_path:str,url:str):\n",
    "        \"\"\"Saves an image to disk.\"\"\"\n",
    "        try:\n",
    "            image_content = requests.get(url).content\n",
    "        except Exception as e:\n",
    "            print(f\"ERROR - Could not download {url} - {e}\")\n",
    "\n",
    "        try:\n",
    "            image_file = io.BytesIO(image_content)\n",
    "            image = Image.open(image_file).convert('RGB')\n",
    "            file_path = os.path.join(folder_path,hashlib.sha1(image_content).hexdigest()[:10] + '.jpg')\n",
    "            with open(file_path, 'wb') as f:\n",
    "                image.save(f, \"JPEG\", quality=100) # default 85\n",
    "            print(f\"SUCCESS - saved {url} - as {file_path}\")\n",
    "        except Exception as e:\n",
    "            print(f\"ERROR - Could not save {url} - {e}\")\n",
    "# cfi = CIFAR_Image(image=None, label=None)\n",
    "cfi=CIFAR_Image()"
   ]
  },
  {
   "cell_type": "code",
   "execution_count": null,
   "id": "454f81f5",
   "metadata": {},
   "outputs": [],
   "source": [
    "from CIFAR_Image import *\n",
    "help(CIFAR_Image)"
   ]
  },
  {
   "cell_type": "code",
   "execution_count": null,
   "id": "b426393f",
   "metadata": {},
   "outputs": [],
   "source": [
    "import io\n",
    "from PIL import Image\n",
    "import hashlib\n",
    "\n",
    "def persist_image(folder_path:str,url:str):\n",
    "    try:\n",
    "        image_content = requests.get(url).content\n",
    "\n",
    "    except Exception as e:\n",
    "        print(f\"ERROR - Could not download {url} - {e}\")\n",
    "\n",
    "    try:\n",
    "        image_file = io.BytesIO(image_content)\n",
    "        image = Image.open(image_file).convert('RGB')\n",
    "        file_path = os.path.join(folder_path,hashlib.sha1(image_content).hexdigest()[:10] + '.jpg')\n",
    "        with open(file_path, 'wb') as f:\n",
    "            image.save(f, \"JPEG\", quality=85)\n",
    "        print(f\"SUCCESS - saved {url} - as {file_path}\")\n",
    "    except Exception as e:\n",
    "        print(f\"ERROR - Could not save {url} - {e}\")\n",
    "print('ok')"
   ]
  },
  {
   "cell_type": "code",
   "execution_count": null,
   "id": "822a2f26",
   "metadata": {},
   "outputs": [],
   "source": [
    "%pip show beautifulsoup4"
   ]
  },
  {
   "cell_type": "code",
   "execution_count": null,
   "id": "26604268",
   "metadata": {},
   "outputs": [],
   "source": []
  }
 ],
 "metadata": {
  "kernelspec": {
   "display_name": "Python 3 (ipykernel)",
   "language": "python",
   "name": "python3"
  },
  "language_info": {
   "codemirror_mode": {
    "name": "ipython",
    "version": 3
   },
   "file_extension": ".py",
   "mimetype": "text/x-python",
   "name": "python",
   "nbconvert_exporter": "python",
   "pygments_lexer": "ipython3",
   "version": "3.7.12"
  }
 },
 "nbformat": 4,
 "nbformat_minor": 5
}
