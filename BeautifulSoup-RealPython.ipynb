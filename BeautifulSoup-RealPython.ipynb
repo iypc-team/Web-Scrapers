{
 "cells": [
  {
   "cell_type": "code",
   "execution_count": null,
   "id": "8e08ec28",
   "metadata": {},
   "outputs": [],
   "source": [
    "import io\n",
    "from PIL import Image\n",
    "import hashlib\n",
    "\n",
    "def persist_image(folder_path:str, url:str):\n",
    "    try:\n",
    "        image_content = requests.get(url).content\n",
    "\n",
    "    except Exception as e:\n",
    "        print(f\"ERROR - Could not download {url} - {e}\")\n",
    "\n",
    "    try:\n",
    "        image_file = io.BytesIO(image_content)\n",
    "        image = Image.open(image_file).convert('RGB')\n",
    "        file_path = os.path.join(folder_path,hashlib.sha1(image_content).hexdigest()[:10] + '.jpg')\n",
    "        with open(file_path, 'wb') as f:\n",
    "            image.save(f, \"JPEG\", quality=85)\n",
    "        print(f\"SUCCESS - saved {url} - as {file_path}\")\n",
    "    except Exception as e:\n",
    "        print(f\"ERROR - Could not save {url} - {e}\")\n",
    "print('ok')"
   ]
  },
  {
   "cell_type": "code",
   "execution_count": null,
   "id": "3d20d9c4",
   "metadata": {},
   "outputs": [],
   "source": [
    "# https://realpython.com/python-web-scraping-practical-introduction/\n",
    "from __future__ import absolute_import, division\n",
    "from BashColors import C\n",
    "import glob, os\n",
    "from time import sleep\n",
    "from os.path import *\n",
    "import re\n",
    "import requests\n",
    "import bs4\n",
    "from bs4 import BeautifulSoup\n",
    "from urllib.request import urlopen\n",
    "\n",
    "contentPath = os.getcwd()\n",
    "downloadPath = join(contentPath, 'Downloads')\n",
    "if not exists(downloadPath):\n",
    "    os.makedirs(downloadPath)\n",
    "print('ok')"
   ]
  },
  {
   "cell_type": "code",
   "execution_count": null,
   "id": "08ddee44",
   "metadata": {},
   "outputs": [],
   "source": [
    "URL = 'https://unsplash.com'\n",
    "URL = 'https://www.space.com/16080-solar-system-planets.html'\n",
    "URL = 'https://solarsystem.nasa.gov/planets/jupiter/galleries/?page=0&per_page=25&order=created_at+desc&search=&href_query_params=category%3Dplanets_jupiter&button_class=big_more_button&tags=jupiter&condition_1=1%3Ais_in_resource_list&category=51'"
   ]
  },
  {
   "cell_type": "code",
   "execution_count": null,
   "id": "e58d6239",
   "metadata": {},
   "outputs": [],
   "source": [
    "url = URL\n",
    "page = urlopen(url)\n",
    "html = page.read().decode(\"utf-8\")\n",
    "\n",
    "pattern = \"<title.*?>.*?</title.*?>\"\n",
    "match_results = re.search(pattern, html, re.IGNORECASE)\n",
    "title = match_results.group()\n",
    "title = re.sub(\"<.*?>\", \"\", title) # Remove HTML tags\n",
    "# print(title)"
   ]
  },
  {
   "cell_type": "code",
   "execution_count": null,
   "id": "7d03c657",
   "metadata": {},
   "outputs": [],
   "source": [
    "from bs4 import BeautifulSoup\n",
    "from urllib.request import urlopen\n",
    "\n",
    "page = urlopen(URL)\n",
    "html = page.read().decode(\"utf-8\")\n",
    "soup = BeautifulSoup(html, \"lxml\")\n",
    "# soup.prettify()"
   ]
  },
  {
   "cell_type": "code",
   "execution_count": null,
   "id": "1cbdaf70",
   "metadata": {},
   "outputs": [],
   "source": [
    "soupString = soup.get_text()\n",
    "# soupString"
   ]
  },
  {
   "cell_type": "code",
   "execution_count": null,
   "id": "159df2a8",
   "metadata": {},
   "outputs": [],
   "source": [
    "download_List=[]\n",
    "for image in soup.find_all(\"img\"):\n",
    "    print(f'-{C.BIBlue}{image}{C.ColorOff}\\n')\n",
    "    source = image['src']\n",
    "    # print(source)\n",
    "    if source.endswith('jpg') or source.endswith('.png'):\n",
    "        fileName = split(source)\n",
    "        fileName = fileName[1]\n",
    "        # print(f'{C.BIPurple}{fileName}{C.ColorOff}')\n",
    "        download_List.append(source)\n",
    "        print(f'{C.BIGreen}{source}{C.ColorOff}')\n",
    "print(len(download_List))"
   ]
  },
  {
   "cell_type": "code",
   "execution_count": null,
   "id": "78b563c9",
   "metadata": {},
   "outputs": [],
   "source": [
    "print(len(download_List))"
   ]
  },
  {
   "cell_type": "code",
   "execution_count": null,
   "id": "19d2001b",
   "metadata": {},
   "outputs": [],
   "source": [
    "for url in download_List:\n",
    "    if url.endswith('.png') or url.endswith('.jpg') or url.endswith('.jpeg'):\n",
    "        print(url)\n",
    "        print(f'saving: {C.BIGreen}{url}{C.ColorOff}')\n",
    "        if not exists(downloadPath):\n",
    "            persist_image(folder_path=downloadPath, url=url)"
   ]
  },
  {
   "cell_type": "code",
   "execution_count": null,
   "id": "aac9d379",
   "metadata": {},
   "outputs": [],
   "source": [
    "globList = glob.glob('**', recursive=True)\n",
    "for pth in globList:\n",
    "    if pth.__contains__('Downloads'):\n",
    "        fullPath= abspath(pth)\n",
    "        print(fullPath)\n",
    "    \n",
    "with Image.open(fullPath) as im:\n",
    "    im.resize(224, 224)\n"
   ]
  },
  {
   "cell_type": "code",
   "execution_count": null,
   "id": "140004b1",
   "metadata": {},
   "outputs": [],
   "source": [
    "os.chdir(downloadPath)\n",
    "%ls -l"
   ]
  }
 ],
 "metadata": {
  "kernelspec": {
   "display_name": "Python 3 (ipykernel)",
   "language": "python",
   "name": "python3"
  },
  "language_info": {
   "codemirror_mode": {
    "name": "ipython",
    "version": 3
   },
   "file_extension": ".py",
   "mimetype": "text/x-python",
   "name": "python",
   "nbconvert_exporter": "python",
   "pygments_lexer": "ipython3",
   "version": "3.7.12"
  }
 },
 "nbformat": 4,
 "nbformat_minor": 5
}
