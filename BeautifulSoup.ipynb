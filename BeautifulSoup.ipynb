{
 "cells": [
  {
   "cell_type": "code",
   "execution_count": null,
   "id": "08ddee44",
   "metadata": {},
   "outputs": [],
   "source": [
    "from __future__ import absolute_import, division\n",
    "from BashColors import C\n",
    "import requests\n",
    "from bs4 import BeautifulSoup\n",
    "BeautifulSoup"
   ]
  },
  {
   "cell_type": "code",
   "execution_count": null,
   "id": "3b779bd0",
   "metadata": {},
   "outputs": [],
   "source": [
    "request = requests.get(\n",
    "    url='https://solarsystem.nasa.gov/planets/jupiter/galleries/')\n",
    "print(request.status_code)"
   ]
  },
  {
   "cell_type": "code",
   "execution_count": null,
   "id": "c56f12a6",
   "metadata": {},
   "outputs": [],
   "source": [
    "src = request.content\n",
    "soup = BeautifulSoup(src, 'lxml')\n",
    "links = soup.find_all('a')\n",
    "for link in links:\n",
    "    try:\n",
    "        print(f'{C.BIBlue}{link}{C.ColorOff}')\n",
    "        print(link.attrs['href'])\n",
    "    except Exception as err: \n",
    "        print(f'{C.BIRed}<----------------->{C.ColorOff}\\n{err}')\n",
    "        print(f'{C.BIRed}<----------------->{C.ColorOff}')"
   ]
  }
 ],
 "metadata": {
  "kernelspec": {
   "display_name": "Python 3 (ipykernel)",
   "language": "python",
   "name": "python3"
  },
  "language_info": {
   "codemirror_mode": {
    "name": "ipython",
    "version": 3
   },
   "file_extension": ".py",
   "mimetype": "text/x-python",
   "name": "python",
   "nbconvert_exporter": "python",
   "pygments_lexer": "ipython3",
   "version": "3.7.12"
  }
 },
 "nbformat": 4,
 "nbformat_minor": 5
}
