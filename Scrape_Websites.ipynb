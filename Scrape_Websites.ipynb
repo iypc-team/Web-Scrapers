{
 "cells": [
  {
   "cell_type": "code",
   "execution_count": null,
   "id": "257f7609",
   "metadata": {},
   "outputs": [],
   "source": [
    "from __future__ import absolute_import\n",
    "from IPython.display import  clear_output\n",
    "global C\n",
    "from BashColors import C\n",
    "import requests\n",
    "from bs4 import BeautifulSoup\n",
    "\n",
    "global colorList\n",
    "colorList=[]\n",
    "global itemNum\n",
    "itemNum = 0"
   ]
  },
  {
   "cell_type": "code",
   "execution_count": null,
   "id": "9d632281",
   "metadata": {},
   "outputs": [],
   "source": [
    "def getTextColors():\n",
    "    colorList.append(C.BIBlue)\n",
    "    colorList.append(C.BIGreen)\n",
    "    colorList.append(C.BIPurple)\n",
    "    colorList.append(C.ColorOff)\n",
    "    # print(colorList)\n",
    "    \n",
    "def getNextColor(item=itemNum):\n",
    "    color=colorList[item]\n",
    "    print(f'{color}bullshit')\n",
    "    item += 1\n",
    "    if item > len(colorList):\n",
    "        item = 0\n",
    "    return item\n",
    "\n",
    "getTextColors()\n",
    "itemNum = getNextColor()"
   ]
  },
  {
   "cell_type": "code",
   "execution_count": null,
   "id": "8b7fd4f8",
   "metadata": {},
   "outputs": [],
   "source": [
    "page = requests.get('https://solarsystem.nasa.gov/planets/overview/')\n",
    "page.content\n",
    "soup = BeautifulSoup(page.content, 'html.parser')\n",
    "print(soup.prettify())\n",
    "\n",
    "\n",
    "# clear_output()"
   ]
  },
  {
   "cell_type": "code",
   "execution_count": null,
   "id": "090ec621",
   "metadata": {},
   "outputs": [],
   "source": [
    "list(soup.children) # children returns a list generator, so we need to call the list function on it.\n",
    "clear_output()"
   ]
  },
  {
   "cell_type": "code",
   "execution_count": null,
   "id": "9e1e4dff",
   "metadata": {},
   "outputs": [],
   "source": [
    "[type(item) for item in list(soup.children)]\n",
    "# [bs4.element.Doctype, bs4.element.NavigableString, bs4.element.Tag]"
   ]
  },
  {
   "cell_type": "code",
   "execution_count": null,
   "id": "f721bf58",
   "metadata": {},
   "outputs": [],
   "source": [
    "html = list(soup.children)[2]\n",
    "for item in list(html.children):\n",
    "    print(item)\n",
    "    print('------------------------')"
   ]
  }
 ],
 "metadata": {
  "kernelspec": {
   "display_name": "Python 3 (ipykernel)",
   "language": "python",
   "name": "python3"
  },
  "language_info": {
   "codemirror_mode": {
    "name": "ipython",
    "version": 3
   },
   "file_extension": ".py",
   "mimetype": "text/x-python",
   "name": "python",
   "nbconvert_exporter": "python",
   "pygments_lexer": "ipython3",
   "version": "3.7.12"
  }
 },
 "nbformat": 4,
 "nbformat_minor": 5
}
