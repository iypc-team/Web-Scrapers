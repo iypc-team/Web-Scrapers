{
 "cells": [
  {
   "cell_type": "code",
   "execution_count": null,
   "id": "285f564f",
   "metadata": {},
   "outputs": [],
   "source": [
    "from multiprocessing.managers import BaseManager\n",
    "manager = BaseManager(\n",
    "    address=('127.0.0.1', 50000), authkey=b'the_art_of_war')\n",
    "server = manager.get_server()\n",
    "# server.serve_forever()\n",
    "server.authkey"
   ]
  },
  {
   "cell_type": "code",
   "execution_count": null,
   "id": "87361bf9",
   "metadata": {},
   "outputs": [],
   "source": [
    "help(BaseManager)"
   ]
  }
 ],
 "metadata": {
  "kernelspec": {
   "display_name": "Python 3 (ipykernel)",
   "language": "python",
   "name": "python3"
  },
  "language_info": {
   "codemirror_mode": {
    "name": "ipython",
    "version": 3
   },
   "file_extension": ".py",
   "mimetype": "text/x-python",
   "name": "python",
   "nbconvert_exporter": "python",
   "pygments_lexer": "ipython3",
   "version": "3.7.12"
  }
 },
 "nbformat": 4,
 "nbformat_minor": 5
}
