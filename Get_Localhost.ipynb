{
 "cells": [
  {
   "cell_type": "code",
   "execution_count": null,
   "id": "285f564f",
   "metadata": {},
   "outputs": [],
   "source": [
    "from multiprocessing.managers import BaseManager\n",
    "manager = BaseManager(\n",
    "    address=('127.0.0.1', 50000), authkey=b'the_art_of_war')\n",
    "server = manager.get_server()\n",
    "# server.serve_forever()\n",
    "server.authkey"
   ]
  },
  {
   "cell_type": "code",
   "execution_count": null,
   "id": "87361bf9",
   "metadata": {},
   "outputs": [],
   "source": [
    "help(BaseManager)"
   ]
  },
  {
   "cell_type": "code",
   "execution_count": null,
   "id": "699069f7",
   "metadata": {},
   "outputs": [],
   "source": [
    "# Server additionally has an address attribute.\n",
    "connect()"
   ]
  },
  {
   "cell_type": "code",
   "execution_count": null,
   "id": "84ea307a",
   "metadata": {},
   "outputs": [],
   "source": [
    "# Connect a local manager object to a remote manager process:\n",
    "from multiprocessing.managers import BaseManager\n",
    "m = BaseManager(address=('127.0.0.1', 50000), authkey=b'abc')\n",
    "m.connect()"
   ]
  }
 ],
 "metadata": {
  "kernelspec": {
   "display_name": "Python 3 (ipykernel)",
   "language": "python",
   "name": "python3"
  },
  "language_info": {
   "codemirror_mode": {
    "name": "ipython",
    "version": 3
   },
   "file_extension": ".py",
   "mimetype": "text/x-python",
   "name": "python",
   "nbconvert_exporter": "python",
   "pygments_lexer": "ipython3",
   "version": "3.7.12"
  }
 },
 "nbformat": 4,
 "nbformat_minor": 5
}
